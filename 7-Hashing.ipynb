{
 "cells": [
  {
   "cell_type": "code",
   "execution_count": 11,
   "metadata": {
    "tags": [
     "Del 1"
    ]
   },
   "outputs": [
    {
     "name": "stdout",
     "output_type": "stream",
     "text": [
      "Passordet er hashet og lagret i passord_hash.txt\n"
     ]
    }
   ],
   "source": [
    "import hashlib\n",
    "import os\n",
    "\n",
    "# Oppgave 2: Velge en Hashing Algoritme\n",
    "hash_algoritme = hashlib.sha256\n",
    "\n",
    "# Oppgave 3: Ta imot et Passord\n",
    "passord = input(\"Skriv inn passordet du ønsker å hashe: \")\n",
    "\n",
    "# Oppgave 5: Generer Salt og Hash Passordet\n",
    "salt = os.urandom(16)  # Generer tilfeldig salt\n",
    "passord_med_salt = salt + passord.encode()  # Legg til salt i passordet som bytes\n",
    "hash_objekt = hash_algoritme(passord_med_salt)  # Velg hashing algoritme\n",
    "hash_hex = hash_objekt.hexdigest()\n",
    "\n",
    "# Lagre Salt og Hash i en fil\n",
    "with open(\"passord_hash.txt\", \"a\") as fil:  # Endret \"w\" til \"a\" for å appende til filen\n",
    "    fil.write(hash_hex + '\\n')\n",
    "    fil.write(salt.hex())\n",
    "\n",
    "print(\"Passordet er hashet og lagret i passord_hash.txt\")\n"
   ]
  },
  {
   "cell_type": "code",
   "execution_count": 13,
   "metadata": {
    "tags": [
     "Del 2"
    ]
   },
   "outputs": [
    {
     "name": "stdout",
     "output_type": "stream",
     "text": [
      "Passordet er ikke korrekt.\n"
     ]
    }
   ],
   "source": [
    "import hashlib\n",
    "\n",
    "# Les lagret hash og salt fra filen\n",
    "with open(\"passord_hash.txt\", \"r\") as fil:\n",
    "    linjer = fil.readlines()\n",
    "    lagrede_hashes = [linje.strip() for linje in linjer[::2]]\n",
    "    salter_hex = [linje.strip() for linje in linjer[1::2]]\n",
    "\n",
    "# Velg hvilket passord du vil sjekke (basert på indeks eller brukerinput)\n",
    "indeks = 0  # Endre denne indeksen hvis du har flere passord i filen\n",
    "lagret_hash = lagrede_hashes[indeks]\n",
    "salt_hex = salter_hex[indeks]\n",
    "\n",
    "# Oppgave 1: Hash og Sjekk Passordet\n",
    "innskrevet_passord = input(\"Skriv inn passordet for verifisering: \")\n",
    "salt = bytes.fromhex(salt_hex)  # Konverter hex-string til bytes\n",
    "\n",
    "# Legg til salt i det innskrevne passordet og hash det\n",
    "passord_med_salt = salt + innskrevet_passord.encode()\n",
    "hash_algoritme = hashlib.sha256\n",
    "hash_objekt = hash_algoritme(passord_med_salt)\n",
    "hash_innskrevet = hash_objekt.hexdigest()\n",
    "\n",
    "# Sammenlign hashene\n",
    "if hash_innskrevet == lagret_hash:\n",
    "    print(\"Passordet er korrekt.\")\n",
    "else:\n",
    "    print(\"Passordet er ikke korrekt.\")\n"
   ]
  },
  {
   "cell_type": "code",
   "execution_count": 16,
   "metadata": {
    "tags": [
     "Del 1 - Funksjonaliteter"
    ]
   },
   "outputs": [
    {
     "name": "stdout",
     "output_type": "stream",
     "text": [
      "Passordet er hashet og lagret i passord_hash.txt\n"
     ]
    }
   ],
   "source": [
    "import hashlib\n",
    "import os\n",
    "\n",
    "def lagre_passord(hash_hex, salt_hex):\n",
    "    with open(\"passord_hash.txt\", \"a\") as fil:\n",
    "        fil.write(hash_hex + '\\n')\n",
    "        fil.write(salt_hex + '\\n')\n",
    "\n",
    "def lagre_nytt_passord():\n",
    "    # Oppgave 3: Ta imot et Passord\n",
    "    passord = input(\"Skriv inn passordet du ønsker å hashe: \")\n",
    "\n",
    "    # Oppgave 5: Generer Salt og Hash Passordet\n",
    "    salt = os.urandom(16)  # Generer tilfeldig salt\n",
    "    passord_med_salt = salt + passord.encode()  # Legg til salt i passordet som bytes\n",
    "    hash_objekt = hashlib.sha256(passord_med_salt)  # Velg hashing algoritme\n",
    "    hash_hex = hash_objekt.hexdigest()\n",
    "\n",
    "    # Lagre Salt og Hash i en fil\n",
    "    lagre_passord(hash_hex, salt.hex())\n",
    "\n",
    "    print(\"Passordet er hashet og lagret i passord_hash.txt\")\n",
    "\n",
    "def hent_passord_info(indeks):\n",
    "    with open(\"passord_hash.txt\", \"r\") as fil:\n",
    "        linjer = fil.readlines()\n",
    "        lagrede_hashes = [linje.strip() for linje in linjer[::2]]\n",
    "        salter_hex = [linje.strip() for linje in linjer[1::2]]\n",
    "\n",
    "    try:\n",
    "        lagret_hash = lagrede_hashes[indeks]\n",
    "        salt_hex = salter_hex[indeks]\n",
    "        return lagret_hash, salt_hex\n",
    "    except IndexError:\n",
    "        return None, None\n",
    "\n",
    "def vis_passord_liste():\n",
    "    with open(\"passord_hash.txt\", \"r\") as fil:\n",
    "        print(\"Lagrede passord:\")\n",
    "        for i, linje in enumerate(fil, start=1):\n",
    "            print(f\"{i}. {linje.strip()}\")\n",
    "\n",
    "# Hovedprogram\n",
    "valg = input(\"Velg handling: (1) Legg til nytt passord, (2) Vis lagrede passord: \")\n",
    "\n",
    "if valg == '1':\n",
    "    lagre_nytt_passord()\n",
    "elif valg == '2':\n",
    "    vis_passord_liste()"
   ]
  },
  {
   "cell_type": "code",
   "execution_count": 18,
   "metadata": {
    "tags": [
     "Del 2 - Funksjonaliteter"
    ]
   },
   "outputs": [
    {
     "name": "stdout",
     "output_type": "stream",
     "text": [
      "Lagrede passord:\n",
      "1. 7939e7043339c623bc1ca0e1007b6f164c1856d3bd2b14ccf74989947f2a225f\n",
      "2. c216998b1d5111f6a69951f0612ca211987ac8fab6c02d45e385bc952e0141ded704a3b8eeb14762561df115b9293e2e\n",
      "3. 74515c9c056ed4965070f09f839e5494\n",
      "Passordet er ikke korrekt.\n"
     ]
    }
   ],
   "source": [
    "import hashlib\n",
    "\n",
    "def sjekk_passord(indeks):\n",
    "    lagret_hash, salt_hex = hent_passord_info(indeks)\n",
    "\n",
    "    if lagret_hash is None:\n",
    "        print(\"Ingen lagrede passord.\")\n",
    "        return\n",
    "\n",
    "    # Oppgave 1: Hash og Sjekk Passordet\n",
    "    innskrevet_passord = input(\"Skriv inn passordet for verifisering: \")\n",
    "    salt = bytes.fromhex(salt_hex)  # Konverter hex-string til bytes\n",
    "\n",
    "    # Legg til salt i det innskrevne passordet og hash det\n",
    "    passord_med_salt = salt + innskrevet_passord.encode()\n",
    "    hash_algoritme = hashlib.sha256\n",
    "    hash_objekt = hash_algoritme(passord_med_salt)\n",
    "    hash_innskrevet = hash_objekt.hexdigest()\n",
    "\n",
    "    # Sammenlign hashene\n",
    "    if hash_innskrevet == lagret_hash:\n",
    "        print(\"Passordet er korrekt.\")\n",
    "    else:\n",
    "        print(\"Passordet er ikke korrekt.\")\n",
    "\n",
    "# Hovedprogram\n",
    "vis_passord_liste()\n",
    "valgt_indeks = int(input(\"Velg passord (ved indeks) for verifisering: \"))\n",
    "sjekk_passord(valgt_indeks - 1)  # Trekker 1 fra indeksen for å matche med listeindeks"
   ]
  }
 ],
 "metadata": {
  "kernelspec": {
   "display_name": "Python 3",
   "language": "python",
   "name": "python3"
  },
  "language_info": {
   "codemirror_mode": {
    "name": "ipython",
    "version": 3
   },
   "file_extension": ".py",
   "mimetype": "text/x-python",
   "name": "python",
   "nbconvert_exporter": "python",
   "pygments_lexer": "ipython3",
   "version": "3.10.0"
  }
 },
 "nbformat": 4,
 "nbformat_minor": 2
}
