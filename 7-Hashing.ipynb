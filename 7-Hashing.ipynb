{
 "cells": [
  {
   "cell_type": "code",
   "execution_count": 1,
   "metadata": {},
   "outputs": [
    {
     "ename": "AttributeError",
     "evalue": "'bytes' object has no attribute 'hax'",
     "output_type": "error",
     "traceback": [
      "\u001b[0;31m---------------------------------------------------------------------------\u001b[0m",
      "\u001b[0;31mAttributeError\u001b[0m                            Traceback (most recent call last)",
      "Cell \u001b[0;32mIn[1], line 18\u001b[0m\n\u001b[1;32m     16\u001b[0m \u001b[38;5;28;01mwith\u001b[39;00m \u001b[38;5;28mopen\u001b[39m(\u001b[38;5;124m\"\u001b[39m\u001b[38;5;124mpassord_hash.txt\u001b[39m\u001b[38;5;124m\"\u001b[39m, \u001b[38;5;124m\"\u001b[39m\u001b[38;5;124mw\u001b[39m\u001b[38;5;124m\"\u001b[39m) \u001b[38;5;28;01mas\u001b[39;00m fil:\n\u001b[1;32m     17\u001b[0m     fil\u001b[38;5;241m.\u001b[39mwrite(hash_hax \u001b[38;5;241m+\u001b[39m \u001b[38;5;124m'\u001b[39m\u001b[38;5;130;01m\\n\u001b[39;00m\u001b[38;5;124m'\u001b[39m)\n\u001b[0;32m---> 18\u001b[0m     fil\u001b[38;5;241m.\u001b[39mwrite(\u001b[43msalt\u001b[49m\u001b[38;5;241;43m.\u001b[39;49m\u001b[43mhax\u001b[49m())\n\u001b[1;32m     20\u001b[0m \u001b[38;5;28mprint\u001b[39m(\u001b[38;5;124m\"\u001b[39m\u001b[38;5;124mPassordet er hashet og lagret i passord_hash.txt\u001b[39m\u001b[38;5;124m\"\u001b[39m)\n",
      "\u001b[0;31mAttributeError\u001b[0m: 'bytes' object has no attribute 'hax'"
     ]
    }
   ],
   "source": [
    "import hashlib\n",
    "import os\n",
    "\n",
    "# Oppgave 2: Hashing Algoritme\n",
    "hash_algoritme = hashlib.sha256\n",
    "\n",
    "# Oppgave 3: Ta imot et passord\n",
    "passord = input(\"Skriv inn passord du ønsker å hashe: \")\n",
    "\n",
    "# Oppgave 5: Genererer Salt og Hash Passordet\n",
    "salt = os.urandom(16)\n",
    "passord_med_salt = salt + passord.encode()\n",
    "hash_object = hash_algoritme(passord_med_salt)\n",
    "hash_hax = hash_object.hexdigest()\n",
    "\n",
    "with open(\"passord_hash.txt\", \"w\") as fil:\n",
    "    fil.write(hash_hax + '\\n')\n",
    "    fil.write(salt.hex())\n",
    "\n",
    "print(\"Passordet er hashet og lagret i passord_hash.txt\")"
   ]
  }
 ],
 "metadata": {
  "kernelspec": {
   "display_name": "Python 3",
   "language": "python",
   "name": "python3"
  },
  "language_info": {
   "codemirror_mode": {
    "name": "ipython",
    "version": 3
   },
   "file_extension": ".py",
   "mimetype": "text/x-python",
   "name": "python",
   "nbconvert_exporter": "python",
   "pygments_lexer": "ipython3",
   "version": "3.10.0"
  }
 },
 "nbformat": 4,
 "nbformat_minor": 2
}
