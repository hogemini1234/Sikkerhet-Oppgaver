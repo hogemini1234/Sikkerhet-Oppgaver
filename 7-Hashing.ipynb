{
 "cells": [
  {
   "cell_type": "code",
   "execution_count": 5,
   "metadata": {
    "tags": [
     "Del 1"
    ]
   },
   "outputs": [
    {
     "name": "stdout",
     "output_type": "stream",
     "text": [
      "Passordet er hashet og lagret i passord_hash.txt\n"
     ]
    }
   ],
   "source": [
    "import hashlib\n",
    "import os\n",
    "\n",
    "# Oppgave 2: Velge en Hashing Algoritme\n",
    "hash_algoritme = hashlib.sha256\n",
    "\n",
    "# Oppgave 3: Ta imot et Passord\n",
    "passord = input(\"Skriv inn passordet du ønsker å hashe: \")\n",
    "\n",
    "# Oppgave 5: Generer Salt og Hash Passordet\n",
    "salt = os.urandom(16)  # Generer tilfeldig salt\n",
    "passord_med_salt = salt + passord.encode()  # Legg til salt i passordet som bytes\n",
    "hash_objekt = hash_algoritme(passord_med_salt)  # Velg hashing algoritme\n",
    "hash_hex = hash_objekt.hexdigest()\n",
    "\n",
    "# Lagre Salt og Hash i en fil\n",
    "with open(\"passord_hash.txt\", \"a\") as fil:  # Endret \"w\" til \"a\" for å appende til filen\n",
    "    fil.write(hash_hex + '\\n')\n",
    "    fil.write(salt.hex())\n",
    "\n",
    "print(\"Passordet er hashet og lagret i passord_hash.txt\")\n"
   ]
  },
  {
   "cell_type": "code",
   "execution_count": 8,
   "metadata": {},
   "outputs": [
    {
     "name": "stdout",
     "output_type": "stream",
     "text": [
      "Passordet er ikke korrekt.\n"
     ]
    }
   ],
   "source": [
    "import hashlib\n",
    "\n",
    "# Les lagret hash og salt fra filen\n",
    "with open(\"passord_hash.txt\", \"r\") as fil:\n",
    "    linjer = fil.readlines()\n",
    "    lagrede_hashes = [linje.strip() for linje in linjer[::2]]\n",
    "    salter_hex = [linje.strip() for linje in linjer[1::2]]\n",
    "\n",
    "# Velg hvilket passord du vil sjekke (basert på indeks eller brukerinput)\n",
    "indeks = 0  # Endre denne indeksen hvis du har flere passord i filen\n",
    "lagret_hash = lagrede_hashes[indeks]\n",
    "salt_hex = salter_hex[indeks]\n",
    "\n",
    "# Oppgave 1: Hash og Sjekk Passordet\n",
    "innskrevet_passord = input(\"Skriv inn passordet for verifisering: \")\n",
    "salt = bytes.fromhex(salt_hex)  # Konverter hex-string til bytes\n",
    "\n",
    "# Legg til salt i det innskrevne passordet og hash det\n",
    "passord_med_salt = salt + innskrevet_passord.encode()\n",
    "hash_algoritme = hashlib.sha256\n",
    "hash_objekt = hash_algoritme(passord_med_salt)\n",
    "hash_innskrevet = hash_objekt.hexdigest()\n",
    "\n",
    "# Sammenlign hashene\n",
    "if hash_innskrevet == lagret_hash:\n",
    "    print(\"Passordet er korrekt.\")\n",
    "else:\n",
    "    print(\"Passordet er ikke korrekt.\")\n"
   ]
  }
 ],
 "metadata": {
  "kernelspec": {
   "display_name": "Python 3",
   "language": "python",
   "name": "python3"
  },
  "language_info": {
   "codemirror_mode": {
    "name": "ipython",
    "version": 3
   },
   "file_extension": ".py",
   "mimetype": "text/x-python",
   "name": "python",
   "nbconvert_exporter": "python",
   "pygments_lexer": "ipython3",
   "version": "3.10.0"
  }
 },
 "nbformat": 4,
 "nbformat_minor": 2
}
