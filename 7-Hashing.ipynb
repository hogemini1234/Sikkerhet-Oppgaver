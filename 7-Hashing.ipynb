{
 "cells": [
  {
   "cell_type": "code",
   "execution_count": 7,
   "metadata": {
    "tags": [
     "Del 1"
    ]
   },
   "outputs": [
    {
     "name": "stdout",
     "output_type": "stream",
     "text": [
      "Passordet er hashet og lagret i passord_hash.txt\n"
     ]
    }
   ],
   "source": [
    "import hashlib\n",
    "import os\n",
    "\n",
    "# Oppgave 2: Hashing Algoritme\n",
    "hash_algoritme = hashlib.sha256\n",
    "\n",
    "# Oppgave 3: Ta imot et passord\n",
    "passord = input(\"Skriv inn passord du ønsker å hashe: \")\n",
    "\n",
    "# Oppgave 5: Genererer Salt og Hash Passordet\n",
    "salt = os.urandom(16)\n",
    "passord_med_salt = salt + passord.encode()\n",
    "hash_objekt = hash_algoritme(passord_med_salt)\n",
    "hash_hax = hash_objekt.hexdigest()\n",
    "\n",
    "with open(\"passord_hash.txt\", \"w\") as fil:\n",
    "    fil.write(hash_hax + '\\n')\n",
    "    fil.write(salt.hex())\n",
    "\n",
    "print(\"Passordet er hashet og lagret i passord_hash.txt\")"
   ]
  },
  {
   "cell_type": "code",
   "execution_count": 10,
   "metadata": {
    "tags": [
     "Del 2"
    ]
   },
   "outputs": [
    {
     "name": "stdout",
     "output_type": "stream",
     "text": [
      "Passordet er korrekt.\n"
     ]
    }
   ],
   "source": [
    "import hashlib\n",
    "\n",
    "# Les input hash og salt fra filen\n",
    "with open(\"passord_hash.txt\", \"r\") as fil:\n",
    "    lagret_hash = fil.readline().strip()\n",
    "    salt_hex = fil.readline().strip()\n",
    "\n",
    "# Oppgave 1: Hash og sjekk passordet\n",
    "innskrevet_passord = input(\"Skriv inn passordet for verifisering: \")\n",
    "salt = bytes.fromhex(salt_hex)\n",
    "\n",
    "# Legg til salt i det innkrevene passordet og hash det\n",
    "passord_med_salt = salt + innskrevet_passord.encode()\n",
    "hash_algoritme = hashlib.sha256\n",
    "hash_objekt = hash_algoritme(passord_med_salt)\n",
    "hash_innskrevet = hash_objekt.hexdigest()\n",
    "\n",
    "# Sammenlign hashene\n",
    "if hash_innskrevet == lagret_hash:\n",
    "    print(\"Passordet er korrekt.\")\n",
    "else:\n",
    "    print(\"Passordet er ikke korrekt.\")"
   ]
  }
 ],
 "metadata": {
  "kernelspec": {
   "display_name": "Python 3",
   "language": "python",
   "name": "python3"
  },
  "language_info": {
   "codemirror_mode": {
    "name": "ipython",
    "version": 3
   },
   "file_extension": ".py",
   "mimetype": "text/x-python",
   "name": "python",
   "nbconvert_exporter": "python",
   "pygments_lexer": "ipython3",
   "version": "3.10.0"
  }
 },
 "nbformat": 4,
 "nbformat_minor": 2
}
