{
 "cells": [
  {
   "cell_type": "code",
   "execution_count": 2,
   "metadata": {},
   "outputs": [
    {
     "ename": "NameError",
     "evalue": "name 'pad' is not defined",
     "output_type": "error",
     "traceback": [
      "\u001b[0;31m---------------------------------------------------------------------------\u001b[0m",
      "\u001b[0;31mNameError\u001b[0m                                 Traceback (most recent call last)",
      "Cell \u001b[0;32mIn[2], line 14\u001b[0m\n\u001b[1;32m     11\u001b[0m     \u001b[38;5;28;01mreturn\u001b[39;00m s \u001b[38;5;241m+\u001b[39m padding \u001b[38;5;241m*\u001b[39m \u001b[38;5;28mchr\u001b[39m(padding)\n\u001b[1;32m     13\u001b[0m melding \u001b[38;5;241m=\u001b[39m \u001b[38;5;124m\"\u001b[39m\u001b[38;5;124mDette er en hemmelig melding!\u001b[39m\u001b[38;5;124m\"\u001b[39m\n\u001b[0;32m---> 14\u001b[0m melding \u001b[38;5;241m=\u001b[39m \u001b[43mpad\u001b[49m(melding)\u001b[38;5;241m.\u001b[39mencode()\n\u001b[1;32m     15\u001b[0m \u001b[38;5;28mprint\u001b[39m(melding)\n\u001b[1;32m     16\u001b[0m cipher \u001b[38;5;241m=\u001b[39m AES\u001b[38;5;241m.\u001b[39mnew(key, AES\u001b[38;5;241m.\u001b[39mMODE_CBC, iv)\n",
      "\u001b[0;31mNameError\u001b[0m: name 'pad' is not defined"
     ]
    }
   ],
   "source": [
    "from Crypto.Cipher import AES\n",
    "from Crypto.Random import get_random_bytes\n",
    "\n",
    "key = get_random_bytes(16)\n",
    "iv = get_random_bytes(16)\n",
    "\n",
    "#KRYPTERING\n",
    "\n",
    "def pad(s):\n",
    "    padding = 16 - len(s) % 16\n",
    "    return s + padding * chr(padding)\n",
    "\n",
    "melding = \"Dette er en hemmelig melding!\"\n",
    "melding = pad(melding).encode()\n",
    "print(melding)\n",
    "cipher = AES.new(key, AES.MODE_CBC, iv)\n",
    "kryptogram = cipher.encrypt(melding)\n",
    "print(kryptogram)"
   ]
  }
 ],
 "metadata": {
  "kernelspec": {
   "display_name": "Python 3",
   "language": "python",
   "name": "python3"
  },
  "language_info": {
   "codemirror_mode": {
    "name": "ipython",
    "version": 3
   },
   "file_extension": ".py",
   "mimetype": "text/x-python",
   "name": "python",
   "nbconvert_exporter": "python",
   "pygments_lexer": "ipython3",
   "version": "3.10.0"
  }
 },
 "nbformat": 4,
 "nbformat_minor": 2
}
